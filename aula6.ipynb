{
 "cells": [
  {
   "cell_type": "code",
   "execution_count": null,
   "id": "858e4b07-238b-405e-8664-9dd5b7c75fe2",
   "metadata": {},
   "outputs": [],
   "source": [
    "# Criando dataframes a partir de dicionários"
   ]
  },
  {
   "cell_type": "code",
   "execution_count": 6,
   "id": "93f98dfb-1ad1-4118-a762-458e7cb76773",
   "metadata": {},
   "outputs": [],
   "source": [
    "# Uma lista de dicionários em python tem o seguinte formato:\n",
    "dicionario1 = {'col-a':range(1,7), # de 1 a 6 (no range sempre coloca um número a mais)\n",
    "               'col-b':['A','B','C','D','E','F'],\n",
    "               'col-c':[5,3,6,9,2,4] }\n",
    "# O dicionario1 é um dicionário com as chaves ‘col-a’,’col-b’ e ‘col-c’.\n",
    "# O elemento da chave ‘a’ é uma lista de valores inteiros de 1 a 6."
   ]
  },
  {
   "cell_type": "code",
   "execution_count": 5,
   "id": "a667865f-43e6-4da2-854b-a7eea6df048c",
   "metadata": {},
   "outputs": [
    {
     "data": {
      "text/plain": [
       "5"
      ]
     },
     "execution_count": 5,
     "metadata": {},
     "output_type": "execute_result"
    }
   ],
   "source": [
    "dicionario1['col-a'][0] # rótulo e posição"
   ]
  },
  {
   "cell_type": "code",
   "execution_count": 7,
   "id": "0dba98e2-10bd-4387-ae3e-afaa494ba58b",
   "metadata": {},
   "outputs": [
    {
     "data": {
      "text/plain": [
       "'A'"
      ]
     },
     "execution_count": 7,
     "metadata": {},
     "output_type": "execute_result"
    }
   ],
   "source": [
    "dicionario1['col-b'][0] # rótulo e posição"
   ]
  },
  {
   "cell_type": "code",
   "execution_count": 8,
   "id": "277561ac-58a6-4221-872b-d4cbea6e946e",
   "metadata": {},
   "outputs": [
    {
     "data": {
      "text/plain": [
       "5"
      ]
     },
     "execution_count": 8,
     "metadata": {},
     "output_type": "execute_result"
    }
   ],
   "source": [
    "dicionario1['col-c'][0] # rótulo e posição"
   ]
  },
  {
   "cell_type": "code",
   "execution_count": 11,
   "id": "94231d78-5d3e-4358-a1d4-d9f7b0f9e6cb",
   "metadata": {},
   "outputs": [],
   "source": [
    "# Para criar um DataFrame a partir de um dicionário, basta passarmos o dicionário como argumento.\n",
    "import pandas as pd \n",
    "df1 = pd.DataFrame(dicionario1) #atribuir a uma veriável\n",
    "# Será criado um conjunto de índices inteiros, começando por zero, um para cada linha do nosso DataFrame"
   ]
  },
  {
   "cell_type": "code",
   "execution_count": 12,
   "id": "06929abb-13a1-40b6-9d92-079542edd288",
   "metadata": {},
   "outputs": [
    {
     "data": {
      "text/html": [
       "<div>\n",
       "<style scoped>\n",
       "    .dataframe tbody tr th:only-of-type {\n",
       "        vertical-align: middle;\n",
       "    }\n",
       "\n",
       "    .dataframe tbody tr th {\n",
       "        vertical-align: top;\n",
       "    }\n",
       "\n",
       "    .dataframe thead th {\n",
       "        text-align: right;\n",
       "    }\n",
       "</style>\n",
       "<table border=\"1\" class=\"dataframe\">\n",
       "  <thead>\n",
       "    <tr style=\"text-align: right;\">\n",
       "      <th></th>\n",
       "      <th>col-a</th>\n",
       "      <th>col-b</th>\n",
       "      <th>col-c</th>\n",
       "    </tr>\n",
       "  </thead>\n",
       "  <tbody>\n",
       "    <tr>\n",
       "      <th>0</th>\n",
       "      <td>1</td>\n",
       "      <td>A</td>\n",
       "      <td>5</td>\n",
       "    </tr>\n",
       "    <tr>\n",
       "      <th>1</th>\n",
       "      <td>2</td>\n",
       "      <td>B</td>\n",
       "      <td>3</td>\n",
       "    </tr>\n",
       "    <tr>\n",
       "      <th>2</th>\n",
       "      <td>3</td>\n",
       "      <td>C</td>\n",
       "      <td>6</td>\n",
       "    </tr>\n",
       "    <tr>\n",
       "      <th>3</th>\n",
       "      <td>4</td>\n",
       "      <td>D</td>\n",
       "      <td>9</td>\n",
       "    </tr>\n",
       "    <tr>\n",
       "      <th>4</th>\n",
       "      <td>5</td>\n",
       "      <td>E</td>\n",
       "      <td>2</td>\n",
       "    </tr>\n",
       "    <tr>\n",
       "      <th>5</th>\n",
       "      <td>6</td>\n",
       "      <td>F</td>\n",
       "      <td>4</td>\n",
       "    </tr>\n",
       "  </tbody>\n",
       "</table>\n",
       "</div>"
      ],
      "text/plain": [
       "   col-a col-b  col-c\n",
       "0      1     A      5\n",
       "1      2     B      3\n",
       "2      3     C      6\n",
       "3      4     D      9\n",
       "4      5     E      2\n",
       "5      6     F      4"
      ]
     },
     "execution_count": 12,
     "metadata": {},
     "output_type": "execute_result"
    }
   ],
   "source": [
    "# As chaves do dicionário col-a, col-b e col-c tornaram-se nossas colunas\n",
    "# Foi criado um índice, a lista mais a esquerda do frame, começando em zero e que não tem um nome atribuído: é o índice das linhas\n",
    "df1"
   ]
  },
  {
   "cell_type": "code",
   "execution_count": 14,
   "id": "212fbd5c-f1b9-45c1-afda-3688739935cb",
   "metadata": {},
   "outputs": [],
   "source": [
    "# Também é possível criar um DataFrame com um conjunto de índices diferentes: podemos passar uma lista de índices que ele irá utilizar...\n",
    "dicionario2 = {'col-a':(1,2,3,5,6),\n",
    "               'col-b':['A','B','C','E','F'],\n",
    "               'col-d':[10,20,30,40,50]}"
   ]
  },
  {
   "cell_type": "code",
   "execution_count": 15,
   "id": "0e40c7a3-4e5b-4b84-98c0-c54aa3b713a8",
   "metadata": {},
   "outputs": [],
   "source": [
    "df2 = pd.DataFrame(dicionario2,                   \n",
    "index=['linha-1','linha-2','linha-3','linha-4','linha-5'])\n",
    "# A lista que fornecermos como parâmetro para index, será utilizada para indexar as linhas..."
   ]
  },
  {
   "cell_type": "code",
   "execution_count": 16,
   "id": "6268a32f-3c6e-4e63-b6dd-8ef2e3f581ac",
   "metadata": {},
   "outputs": [
    {
     "data": {
      "text/html": [
       "<div>\n",
       "<style scoped>\n",
       "    .dataframe tbody tr th:only-of-type {\n",
       "        vertical-align: middle;\n",
       "    }\n",
       "\n",
       "    .dataframe tbody tr th {\n",
       "        vertical-align: top;\n",
       "    }\n",
       "\n",
       "    .dataframe thead th {\n",
       "        text-align: right;\n",
       "    }\n",
       "</style>\n",
       "<table border=\"1\" class=\"dataframe\">\n",
       "  <thead>\n",
       "    <tr style=\"text-align: right;\">\n",
       "      <th></th>\n",
       "      <th>col-a</th>\n",
       "      <th>col-b</th>\n",
       "      <th>col-d</th>\n",
       "    </tr>\n",
       "  </thead>\n",
       "  <tbody>\n",
       "    <tr>\n",
       "      <th>linha-1</th>\n",
       "      <td>1</td>\n",
       "      <td>A</td>\n",
       "      <td>10</td>\n",
       "    </tr>\n",
       "    <tr>\n",
       "      <th>linha-2</th>\n",
       "      <td>2</td>\n",
       "      <td>B</td>\n",
       "      <td>20</td>\n",
       "    </tr>\n",
       "    <tr>\n",
       "      <th>linha-3</th>\n",
       "      <td>3</td>\n",
       "      <td>C</td>\n",
       "      <td>30</td>\n",
       "    </tr>\n",
       "    <tr>\n",
       "      <th>linha-4</th>\n",
       "      <td>5</td>\n",
       "      <td>E</td>\n",
       "      <td>40</td>\n",
       "    </tr>\n",
       "    <tr>\n",
       "      <th>linha-5</th>\n",
       "      <td>6</td>\n",
       "      <td>F</td>\n",
       "      <td>50</td>\n",
       "    </tr>\n",
       "  </tbody>\n",
       "</table>\n",
       "</div>"
      ],
      "text/plain": [
       "         col-a col-b  col-d\n",
       "linha-1      1     A     10\n",
       "linha-2      2     B     20\n",
       "linha-3      3     C     30\n",
       "linha-4      5     E     40\n",
       "linha-5      6     F     50"
      ]
     },
     "execution_count": 16,
     "metadata": {},
     "output_type": "execute_result"
    }
   ],
   "source": [
    "df2"
   ]
  },
  {
   "cell_type": "code",
   "execution_count": 18,
   "id": "1aa6f36c-a00c-4925-ab25-98736f8ca029",
   "metadata": {},
   "outputs": [
    {
     "data": {
      "text/plain": [
       "1"
      ]
     },
     "execution_count": 18,
     "metadata": {},
     "output_type": "execute_result"
    }
   ],
   "source": [
    "df2['col-a']['linha-1']"
   ]
  },
  {
   "cell_type": "code",
   "execution_count": null,
   "id": "47122586-1a88-4145-9f86-7aa9c330b105",
   "metadata": {},
   "outputs": [],
   "source": [
    "# Unindo dados\n",
    "# As operações típicas de consultas SQL podem ser realizadas a partir da criação dos DataFrames: inner join, outer join, left join, right join\n",
    "# Temos as mesmas funções para juntar nossos dados, unir, concatenar e com diversas funcionalidades adicionais"
   ]
  },
  {
   "cell_type": "code",
   "execution_count": 19,
   "id": "7549bd6f-585e-4e31-a06e-91945153f5f7",
   "metadata": {},
   "outputs": [],
   "source": [
    "# Inner merge\n",
    "# Na sua forma mais simples, irá buscar colunas com o mesmo nome nas duas tabelas e irá unir os resultados a partir dos valores coincidentes…\n",
    "df3inner = pd.merge(df1,df2)"
   ]
  },
  {
   "cell_type": "code",
   "execution_count": 20,
   "id": "ebc1d461-3555-43bf-8599-6c7abe079387",
   "metadata": {},
   "outputs": [
    {
     "data": {
      "text/html": [
       "<div>\n",
       "<style scoped>\n",
       "    .dataframe tbody tr th:only-of-type {\n",
       "        vertical-align: middle;\n",
       "    }\n",
       "\n",
       "    .dataframe tbody tr th {\n",
       "        vertical-align: top;\n",
       "    }\n",
       "\n",
       "    .dataframe thead th {\n",
       "        text-align: right;\n",
       "    }\n",
       "</style>\n",
       "<table border=\"1\" class=\"dataframe\">\n",
       "  <thead>\n",
       "    <tr style=\"text-align: right;\">\n",
       "      <th></th>\n",
       "      <th>col-a</th>\n",
       "      <th>col-b</th>\n",
       "      <th>col-c</th>\n",
       "      <th>col-d</th>\n",
       "    </tr>\n",
       "  </thead>\n",
       "  <tbody>\n",
       "    <tr>\n",
       "      <th>0</th>\n",
       "      <td>1</td>\n",
       "      <td>A</td>\n",
       "      <td>5</td>\n",
       "      <td>10</td>\n",
       "    </tr>\n",
       "    <tr>\n",
       "      <th>1</th>\n",
       "      <td>2</td>\n",
       "      <td>B</td>\n",
       "      <td>3</td>\n",
       "      <td>20</td>\n",
       "    </tr>\n",
       "    <tr>\n",
       "      <th>2</th>\n",
       "      <td>3</td>\n",
       "      <td>C</td>\n",
       "      <td>6</td>\n",
       "      <td>30</td>\n",
       "    </tr>\n",
       "    <tr>\n",
       "      <th>3</th>\n",
       "      <td>5</td>\n",
       "      <td>E</td>\n",
       "      <td>2</td>\n",
       "      <td>40</td>\n",
       "    </tr>\n",
       "    <tr>\n",
       "      <th>4</th>\n",
       "      <td>6</td>\n",
       "      <td>F</td>\n",
       "      <td>4</td>\n",
       "      <td>50</td>\n",
       "    </tr>\n",
       "  </tbody>\n",
       "</table>\n",
       "</div>"
      ],
      "text/plain": [
       "   col-a col-b  col-c  col-d\n",
       "0      1     A      5     10\n",
       "1      2     B      3     20\n",
       "2      3     C      6     30\n",
       "3      5     E      2     40\n",
       "4      6     F      4     50"
      ]
     },
     "execution_count": 20,
     "metadata": {},
     "output_type": "execute_result"
    }
   ],
   "source": [
    "df3inner\n",
    "# As colunas col-a e col-b são comuns aos dois dataframes e os seus valores serão utilizados para selecionar os itens que serão trazidos. \n",
    "# Onde houver coincidência, serão recuperados os valores e unidas as demais colunas..."
   ]
  },
  {
   "cell_type": "code",
   "execution_count": 21,
   "id": "a86c8718-abbf-4c38-aed5-42af84c93f37",
   "metadata": {},
   "outputs": [],
   "source": [
    "# Outer merge\n",
    "# Podemos especificar a forma de execução do comando de merge, utilizando o parâmetro how (como)\n",
    "# Ele admite os valores ‘outer’,’left,’right’\n",
    "df3outer=pd.merge(df1,df2,how='outer')"
   ]
  },
  {
   "cell_type": "code",
   "execution_count": 22,
   "id": "a1af4eaa-9801-4a9d-8150-194e712c6f4e",
   "metadata": {},
   "outputs": [
    {
     "data": {
      "text/html": [
       "<div>\n",
       "<style scoped>\n",
       "    .dataframe tbody tr th:only-of-type {\n",
       "        vertical-align: middle;\n",
       "    }\n",
       "\n",
       "    .dataframe tbody tr th {\n",
       "        vertical-align: top;\n",
       "    }\n",
       "\n",
       "    .dataframe thead th {\n",
       "        text-align: right;\n",
       "    }\n",
       "</style>\n",
       "<table border=\"1\" class=\"dataframe\">\n",
       "  <thead>\n",
       "    <tr style=\"text-align: right;\">\n",
       "      <th></th>\n",
       "      <th>col-a</th>\n",
       "      <th>col-b</th>\n",
       "      <th>col-c</th>\n",
       "      <th>col-d</th>\n",
       "    </tr>\n",
       "  </thead>\n",
       "  <tbody>\n",
       "    <tr>\n",
       "      <th>0</th>\n",
       "      <td>1</td>\n",
       "      <td>A</td>\n",
       "      <td>5</td>\n",
       "      <td>10.0</td>\n",
       "    </tr>\n",
       "    <tr>\n",
       "      <th>1</th>\n",
       "      <td>2</td>\n",
       "      <td>B</td>\n",
       "      <td>3</td>\n",
       "      <td>20.0</td>\n",
       "    </tr>\n",
       "    <tr>\n",
       "      <th>2</th>\n",
       "      <td>3</td>\n",
       "      <td>C</td>\n",
       "      <td>6</td>\n",
       "      <td>30.0</td>\n",
       "    </tr>\n",
       "    <tr>\n",
       "      <th>3</th>\n",
       "      <td>4</td>\n",
       "      <td>D</td>\n",
       "      <td>9</td>\n",
       "      <td>NaN</td>\n",
       "    </tr>\n",
       "    <tr>\n",
       "      <th>4</th>\n",
       "      <td>5</td>\n",
       "      <td>E</td>\n",
       "      <td>2</td>\n",
       "      <td>40.0</td>\n",
       "    </tr>\n",
       "    <tr>\n",
       "      <th>5</th>\n",
       "      <td>6</td>\n",
       "      <td>F</td>\n",
       "      <td>4</td>\n",
       "      <td>50.0</td>\n",
       "    </tr>\n",
       "  </tbody>\n",
       "</table>\n",
       "</div>"
      ],
      "text/plain": [
       "   col-a col-b  col-c  col-d\n",
       "0      1     A      5   10.0\n",
       "1      2     B      3   20.0\n",
       "2      3     C      6   30.0\n",
       "3      4     D      9    NaN\n",
       "4      5     E      2   40.0\n",
       "5      6     F      4   50.0"
      ]
     },
     "execution_count": 22,
     "metadata": {},
     "output_type": "execute_result"
    }
   ],
   "source": [
    "df3outer\n",
    "# O outer merge irá trazer os conteúdos de ambas as tabelas preenchendo os elementos que não tiverem valor \n",
    "# com NaN - Not A Number, que é o padrão para os objetos pandas"
   ]
  },
  {
   "cell_type": "code",
   "execution_count": 24,
   "id": "4fb83123-8114-407d-9243-893a86682c5c",
   "metadata": {},
   "outputs": [],
   "source": [
    "# Right merge\n",
    "# Podemos especificar a forma de execução do comando de merge, utilizando o parâmetro how\n",
    "# Ele admite os valores ‘outer’,’left,’right’\n",
    "df3right = pd.merge(df1,df2,how='right')"
   ]
  },
  {
   "cell_type": "code",
   "execution_count": 25,
   "id": "c6ebee4f-f782-41e8-bdc2-d9da2b01aacb",
   "metadata": {},
   "outputs": [
    {
     "data": {
      "text/html": [
       "<div>\n",
       "<style scoped>\n",
       "    .dataframe tbody tr th:only-of-type {\n",
       "        vertical-align: middle;\n",
       "    }\n",
       "\n",
       "    .dataframe tbody tr th {\n",
       "        vertical-align: top;\n",
       "    }\n",
       "\n",
       "    .dataframe thead th {\n",
       "        text-align: right;\n",
       "    }\n",
       "</style>\n",
       "<table border=\"1\" class=\"dataframe\">\n",
       "  <thead>\n",
       "    <tr style=\"text-align: right;\">\n",
       "      <th></th>\n",
       "      <th>col-a</th>\n",
       "      <th>col-b</th>\n",
       "      <th>col-c</th>\n",
       "      <th>col-d</th>\n",
       "    </tr>\n",
       "  </thead>\n",
       "  <tbody>\n",
       "    <tr>\n",
       "      <th>0</th>\n",
       "      <td>1</td>\n",
       "      <td>A</td>\n",
       "      <td>5</td>\n",
       "      <td>10</td>\n",
       "    </tr>\n",
       "    <tr>\n",
       "      <th>1</th>\n",
       "      <td>2</td>\n",
       "      <td>B</td>\n",
       "      <td>3</td>\n",
       "      <td>20</td>\n",
       "    </tr>\n",
       "    <tr>\n",
       "      <th>2</th>\n",
       "      <td>3</td>\n",
       "      <td>C</td>\n",
       "      <td>6</td>\n",
       "      <td>30</td>\n",
       "    </tr>\n",
       "    <tr>\n",
       "      <th>3</th>\n",
       "      <td>5</td>\n",
       "      <td>E</td>\n",
       "      <td>2</td>\n",
       "      <td>40</td>\n",
       "    </tr>\n",
       "    <tr>\n",
       "      <th>4</th>\n",
       "      <td>6</td>\n",
       "      <td>F</td>\n",
       "      <td>4</td>\n",
       "      <td>50</td>\n",
       "    </tr>\n",
       "  </tbody>\n",
       "</table>\n",
       "</div>"
      ],
      "text/plain": [
       "   col-a col-b  col-c  col-d\n",
       "0      1     A      5     10\n",
       "1      2     B      3     20\n",
       "2      3     C      6     30\n",
       "3      5     E      2     40\n",
       "4      6     F      4     50"
      ]
     },
     "execution_count": 25,
     "metadata": {},
     "output_type": "execute_result"
    }
   ],
   "source": [
    "df3right\n",
    "# O right merge irá recuperar todos os valores a partir do DataFrame da direita, e preencherá os elementos \n",
    "# originados no DataFrame da esquerda com NaN"
   ]
  },
  {
   "cell_type": "code",
   "execution_count": 26,
   "id": "cc09365c-c5a1-4392-8837-3e27c8977f04",
   "metadata": {},
   "outputs": [],
   "source": [
    "# Selecionando colunas para o merge: on\n",
    "# é possível definir qual a coluna que deverá ser utilizada para realizar o merge. Isso é muito \n",
    "# importante quando queremos ter maior controle sobre o processo de junção:\n",
    "df3ona = pd.merge(df1,df2, on=(\"col-a\"))"
   ]
  },
  {
   "cell_type": "code",
   "execution_count": 27,
   "id": "d9c675fa-ad9c-49e1-806b-86e4f8a18325",
   "metadata": {},
   "outputs": [
    {
     "data": {
      "text/html": [
       "<div>\n",
       "<style scoped>\n",
       "    .dataframe tbody tr th:only-of-type {\n",
       "        vertical-align: middle;\n",
       "    }\n",
       "\n",
       "    .dataframe tbody tr th {\n",
       "        vertical-align: top;\n",
       "    }\n",
       "\n",
       "    .dataframe thead th {\n",
       "        text-align: right;\n",
       "    }\n",
       "</style>\n",
       "<table border=\"1\" class=\"dataframe\">\n",
       "  <thead>\n",
       "    <tr style=\"text-align: right;\">\n",
       "      <th></th>\n",
       "      <th>col-a</th>\n",
       "      <th>col-b_x</th>\n",
       "      <th>col-c</th>\n",
       "      <th>col-b_y</th>\n",
       "      <th>col-d</th>\n",
       "    </tr>\n",
       "  </thead>\n",
       "  <tbody>\n",
       "    <tr>\n",
       "      <th>0</th>\n",
       "      <td>1</td>\n",
       "      <td>A</td>\n",
       "      <td>5</td>\n",
       "      <td>A</td>\n",
       "      <td>10</td>\n",
       "    </tr>\n",
       "    <tr>\n",
       "      <th>1</th>\n",
       "      <td>2</td>\n",
       "      <td>B</td>\n",
       "      <td>3</td>\n",
       "      <td>B</td>\n",
       "      <td>20</td>\n",
       "    </tr>\n",
       "    <tr>\n",
       "      <th>2</th>\n",
       "      <td>3</td>\n",
       "      <td>C</td>\n",
       "      <td>6</td>\n",
       "      <td>C</td>\n",
       "      <td>30</td>\n",
       "    </tr>\n",
       "    <tr>\n",
       "      <th>3</th>\n",
       "      <td>5</td>\n",
       "      <td>E</td>\n",
       "      <td>2</td>\n",
       "      <td>E</td>\n",
       "      <td>40</td>\n",
       "    </tr>\n",
       "    <tr>\n",
       "      <th>4</th>\n",
       "      <td>6</td>\n",
       "      <td>F</td>\n",
       "      <td>4</td>\n",
       "      <td>F</td>\n",
       "      <td>50</td>\n",
       "    </tr>\n",
       "  </tbody>\n",
       "</table>\n",
       "</div>"
      ],
      "text/plain": [
       "   col-a col-b_x  col-c col-b_y  col-d\n",
       "0      1       A      5       A     10\n",
       "1      2       B      3       B     20\n",
       "2      3       C      6       C     30\n",
       "3      5       E      2       E     40\n",
       "4      6       F      4       F     50"
      ]
     },
     "execution_count": 27,
     "metadata": {},
     "output_type": "execute_result"
    }
   ],
   "source": [
    "df3ona\n",
    "# Como a col-b não será considerada agora, os seus valores serão tratados como diferentes e \n",
    "# serão duplicados com o acréscimo de um sufixo que por padrão é x,y,z..."
   ]
  },
  {
   "cell_type": "code",
   "execution_count": 31,
   "id": "da6e44e2-8ea5-4bce-a156-dbbf2dc08913",
   "metadata": {},
   "outputs": [
    {
     "ename": "KeyError",
     "evalue": "'col-c'",
     "output_type": "error",
     "traceback": [
      "\u001b[1;31m---------------------------------------------------------------------------\u001b[0m",
      "\u001b[1;31mKeyError\u001b[0m                                  Traceback (most recent call last)",
      "Input \u001b[1;32mIn [31]\u001b[0m, in \u001b[0;36m<cell line: 4>\u001b[1;34m()\u001b[0m\n\u001b[0;32m      1\u001b[0m \u001b[38;5;66;03m# Uso do on com colunas que não são comuns...\u001b[39;00m\n\u001b[0;32m      2\u001b[0m \u001b[38;5;66;03m# As colunas selecionadas para uso na junção com o uso do on, devem ser comuns aos dois dataframes\u001b[39;00m\n\u001b[0;32m      3\u001b[0m \u001b[38;5;66;03m# Se não houver uma coluna comum, será emitido um erro...\u001b[39;00m\n\u001b[1;32m----> 4\u001b[0m df3onc \u001b[38;5;241m=\u001b[39m \u001b[43mpd\u001b[49m\u001b[38;5;241;43m.\u001b[39;49m\u001b[43mmerge\u001b[49m\u001b[43m(\u001b[49m\u001b[43mdf1\u001b[49m\u001b[43m,\u001b[49m\u001b[43mdf2\u001b[49m\u001b[43m,\u001b[49m\u001b[43m \u001b[49m\u001b[43mon\u001b[49m\u001b[38;5;241;43m=\u001b[39;49m\u001b[43m(\u001b[49m\u001b[38;5;124;43m\"\u001b[39;49m\u001b[38;5;124;43mcol-c\u001b[39;49m\u001b[38;5;124;43m\"\u001b[39;49m\u001b[43m)\u001b[49m\u001b[43m)\u001b[49m\n",
      "File \u001b[1;32m~\\prog_db\\jupyter\\lib\\site-packages\\pandas\\core\\reshape\\merge.py:107\u001b[0m, in \u001b[0;36mmerge\u001b[1;34m(left, right, how, on, left_on, right_on, left_index, right_index, sort, suffixes, copy, indicator, validate)\u001b[0m\n\u001b[0;32m     90\u001b[0m \u001b[38;5;129m@Substitution\u001b[39m(\u001b[38;5;124m\"\u001b[39m\u001b[38;5;130;01m\\n\u001b[39;00m\u001b[38;5;124mleft : DataFrame or named Series\u001b[39m\u001b[38;5;124m\"\u001b[39m)\n\u001b[0;32m     91\u001b[0m \u001b[38;5;129m@Appender\u001b[39m(_merge_doc, indents\u001b[38;5;241m=\u001b[39m\u001b[38;5;241m0\u001b[39m)\n\u001b[0;32m     92\u001b[0m \u001b[38;5;28;01mdef\u001b[39;00m \u001b[38;5;21mmerge\u001b[39m(\n\u001b[1;32m   (...)\u001b[0m\n\u001b[0;32m    105\u001b[0m     validate: \u001b[38;5;28mstr\u001b[39m \u001b[38;5;241m|\u001b[39m \u001b[38;5;28;01mNone\u001b[39;00m \u001b[38;5;241m=\u001b[39m \u001b[38;5;28;01mNone\u001b[39;00m,\n\u001b[0;32m    106\u001b[0m ) \u001b[38;5;241m-\u001b[39m\u001b[38;5;241m>\u001b[39m DataFrame:\n\u001b[1;32m--> 107\u001b[0m     op \u001b[38;5;241m=\u001b[39m \u001b[43m_MergeOperation\u001b[49m\u001b[43m(\u001b[49m\n\u001b[0;32m    108\u001b[0m \u001b[43m        \u001b[49m\u001b[43mleft\u001b[49m\u001b[43m,\u001b[49m\n\u001b[0;32m    109\u001b[0m \u001b[43m        \u001b[49m\u001b[43mright\u001b[49m\u001b[43m,\u001b[49m\n\u001b[0;32m    110\u001b[0m \u001b[43m        \u001b[49m\u001b[43mhow\u001b[49m\u001b[38;5;241;43m=\u001b[39;49m\u001b[43mhow\u001b[49m\u001b[43m,\u001b[49m\n\u001b[0;32m    111\u001b[0m \u001b[43m        \u001b[49m\u001b[43mon\u001b[49m\u001b[38;5;241;43m=\u001b[39;49m\u001b[43mon\u001b[49m\u001b[43m,\u001b[49m\n\u001b[0;32m    112\u001b[0m \u001b[43m        \u001b[49m\u001b[43mleft_on\u001b[49m\u001b[38;5;241;43m=\u001b[39;49m\u001b[43mleft_on\u001b[49m\u001b[43m,\u001b[49m\n\u001b[0;32m    113\u001b[0m \u001b[43m        \u001b[49m\u001b[43mright_on\u001b[49m\u001b[38;5;241;43m=\u001b[39;49m\u001b[43mright_on\u001b[49m\u001b[43m,\u001b[49m\n\u001b[0;32m    114\u001b[0m \u001b[43m        \u001b[49m\u001b[43mleft_index\u001b[49m\u001b[38;5;241;43m=\u001b[39;49m\u001b[43mleft_index\u001b[49m\u001b[43m,\u001b[49m\n\u001b[0;32m    115\u001b[0m \u001b[43m        \u001b[49m\u001b[43mright_index\u001b[49m\u001b[38;5;241;43m=\u001b[39;49m\u001b[43mright_index\u001b[49m\u001b[43m,\u001b[49m\n\u001b[0;32m    116\u001b[0m \u001b[43m        \u001b[49m\u001b[43msort\u001b[49m\u001b[38;5;241;43m=\u001b[39;49m\u001b[43msort\u001b[49m\u001b[43m,\u001b[49m\n\u001b[0;32m    117\u001b[0m \u001b[43m        \u001b[49m\u001b[43msuffixes\u001b[49m\u001b[38;5;241;43m=\u001b[39;49m\u001b[43msuffixes\u001b[49m\u001b[43m,\u001b[49m\n\u001b[0;32m    118\u001b[0m \u001b[43m        \u001b[49m\u001b[43mcopy\u001b[49m\u001b[38;5;241;43m=\u001b[39;49m\u001b[43mcopy\u001b[49m\u001b[43m,\u001b[49m\n\u001b[0;32m    119\u001b[0m \u001b[43m        \u001b[49m\u001b[43mindicator\u001b[49m\u001b[38;5;241;43m=\u001b[39;49m\u001b[43mindicator\u001b[49m\u001b[43m,\u001b[49m\n\u001b[0;32m    120\u001b[0m \u001b[43m        \u001b[49m\u001b[43mvalidate\u001b[49m\u001b[38;5;241;43m=\u001b[39;49m\u001b[43mvalidate\u001b[49m\u001b[43m,\u001b[49m\n\u001b[0;32m    121\u001b[0m \u001b[43m    \u001b[49m\u001b[43m)\u001b[49m\n\u001b[0;32m    122\u001b[0m     \u001b[38;5;28;01mreturn\u001b[39;00m op\u001b[38;5;241m.\u001b[39mget_result()\n",
      "File \u001b[1;32m~\\prog_db\\jupyter\\lib\\site-packages\\pandas\\core\\reshape\\merge.py:700\u001b[0m, in \u001b[0;36m_MergeOperation.__init__\u001b[1;34m(self, left, right, how, on, left_on, right_on, axis, left_index, right_index, sort, suffixes, copy, indicator, validate)\u001b[0m\n\u001b[0;32m    693\u001b[0m \u001b[38;5;28mself\u001b[39m\u001b[38;5;241m.\u001b[39m_cross \u001b[38;5;241m=\u001b[39m cross_col\n\u001b[0;32m    695\u001b[0m \u001b[38;5;66;03m# note this function has side effects\u001b[39;00m\n\u001b[0;32m    696\u001b[0m (\n\u001b[0;32m    697\u001b[0m     \u001b[38;5;28mself\u001b[39m\u001b[38;5;241m.\u001b[39mleft_join_keys,\n\u001b[0;32m    698\u001b[0m     \u001b[38;5;28mself\u001b[39m\u001b[38;5;241m.\u001b[39mright_join_keys,\n\u001b[0;32m    699\u001b[0m     \u001b[38;5;28mself\u001b[39m\u001b[38;5;241m.\u001b[39mjoin_names,\n\u001b[1;32m--> 700\u001b[0m ) \u001b[38;5;241m=\u001b[39m \u001b[38;5;28;43mself\u001b[39;49m\u001b[38;5;241;43m.\u001b[39;49m\u001b[43m_get_merge_keys\u001b[49m\u001b[43m(\u001b[49m\u001b[43m)\u001b[49m\n\u001b[0;32m    702\u001b[0m \u001b[38;5;66;03m# validate the merge keys dtypes. We may need to coerce\u001b[39;00m\n\u001b[0;32m    703\u001b[0m \u001b[38;5;66;03m# to avoid incompatible dtypes\u001b[39;00m\n\u001b[0;32m    704\u001b[0m \u001b[38;5;28mself\u001b[39m\u001b[38;5;241m.\u001b[39m_maybe_coerce_merge_keys()\n",
      "File \u001b[1;32m~\\prog_db\\jupyter\\lib\\site-packages\\pandas\\core\\reshape\\merge.py:1097\u001b[0m, in \u001b[0;36m_MergeOperation._get_merge_keys\u001b[1;34m(self)\u001b[0m\n\u001b[0;32m   1095\u001b[0m \u001b[38;5;28;01mif\u001b[39;00m \u001b[38;5;129;01mnot\u001b[39;00m is_rkey(rk):\n\u001b[0;32m   1096\u001b[0m     \u001b[38;5;28;01mif\u001b[39;00m rk \u001b[38;5;129;01mis\u001b[39;00m \u001b[38;5;129;01mnot\u001b[39;00m \u001b[38;5;28;01mNone\u001b[39;00m:\n\u001b[1;32m-> 1097\u001b[0m         right_keys\u001b[38;5;241m.\u001b[39mappend(\u001b[43mright\u001b[49m\u001b[38;5;241;43m.\u001b[39;49m\u001b[43m_get_label_or_level_values\u001b[49m\u001b[43m(\u001b[49m\u001b[43mrk\u001b[49m\u001b[43m)\u001b[49m)\n\u001b[0;32m   1098\u001b[0m     \u001b[38;5;28;01melse\u001b[39;00m:\n\u001b[0;32m   1099\u001b[0m         \u001b[38;5;66;03m# work-around for merge_asof(right_index=True)\u001b[39;00m\n\u001b[0;32m   1100\u001b[0m         right_keys\u001b[38;5;241m.\u001b[39mappend(right\u001b[38;5;241m.\u001b[39mindex)\n",
      "File \u001b[1;32m~\\prog_db\\jupyter\\lib\\site-packages\\pandas\\core\\generic.py:1840\u001b[0m, in \u001b[0;36mNDFrame._get_label_or_level_values\u001b[1;34m(self, key, axis)\u001b[0m\n\u001b[0;32m   1838\u001b[0m     values \u001b[38;5;241m=\u001b[39m \u001b[38;5;28mself\u001b[39m\u001b[38;5;241m.\u001b[39maxes[axis]\u001b[38;5;241m.\u001b[39mget_level_values(key)\u001b[38;5;241m.\u001b[39m_values\n\u001b[0;32m   1839\u001b[0m \u001b[38;5;28;01melse\u001b[39;00m:\n\u001b[1;32m-> 1840\u001b[0m     \u001b[38;5;28;01mraise\u001b[39;00m \u001b[38;5;167;01mKeyError\u001b[39;00m(key)\n\u001b[0;32m   1842\u001b[0m \u001b[38;5;66;03m# Check for duplicates\u001b[39;00m\n\u001b[0;32m   1843\u001b[0m \u001b[38;5;28;01mif\u001b[39;00m values\u001b[38;5;241m.\u001b[39mndim \u001b[38;5;241m>\u001b[39m \u001b[38;5;241m1\u001b[39m:\n",
      "\u001b[1;31mKeyError\u001b[0m: 'col-c'"
     ]
    }
   ],
   "source": [
    "# Uso do on com colunas que não são comuns...\n",
    "# As colunas selecionadas para uso na junção com o uso do on, devem ser comuns aos dois dataframes\n",
    "# Se não houver uma coluna comum, será emitido um erro...\n",
    "df3onc = pd.merge(df1,df2, on=(\"col-c\"))"
   ]
  },
  {
   "cell_type": "code",
   "execution_count": 29,
   "id": "de9e01bf-5d15-4ec2-aef8-d2e2873a89d9",
   "metadata": {},
   "outputs": [],
   "source": [
    "# ou quando não há coincidências de valores...\n",
    "dicionario1Rev = {\n",
    "'col-a':reversed(range(1,7)),\n",
    "                'col-b':['A','B','C','D','E','F'],\n",
    "                'col-c':[5,3,6,9,2,4]}\n",
    "df1Rev = pd.DataFrame(dicionario1Rev)\n",
    "dfcoincidentes1Rev=pd.merge(df1Rev,df2)"
   ]
  },
  {
   "cell_type": "code",
   "execution_count": 30,
   "id": "b4948688-fcd5-4056-b74d-ba447aa0476e",
   "metadata": {},
   "outputs": [
    {
     "data": {
      "text/html": [
       "<div>\n",
       "<style scoped>\n",
       "    .dataframe tbody tr th:only-of-type {\n",
       "        vertical-align: middle;\n",
       "    }\n",
       "\n",
       "    .dataframe tbody tr th {\n",
       "        vertical-align: top;\n",
       "    }\n",
       "\n",
       "    .dataframe thead th {\n",
       "        text-align: right;\n",
       "    }\n",
       "</style>\n",
       "<table border=\"1\" class=\"dataframe\">\n",
       "  <thead>\n",
       "    <tr style=\"text-align: right;\">\n",
       "      <th></th>\n",
       "      <th>col-a</th>\n",
       "      <th>col-b</th>\n",
       "      <th>col-c</th>\n",
       "    </tr>\n",
       "  </thead>\n",
       "  <tbody>\n",
       "    <tr>\n",
       "      <th>0</th>\n",
       "      <td>6</td>\n",
       "      <td>A</td>\n",
       "      <td>5</td>\n",
       "    </tr>\n",
       "    <tr>\n",
       "      <th>1</th>\n",
       "      <td>5</td>\n",
       "      <td>B</td>\n",
       "      <td>3</td>\n",
       "    </tr>\n",
       "    <tr>\n",
       "      <th>2</th>\n",
       "      <td>4</td>\n",
       "      <td>C</td>\n",
       "      <td>6</td>\n",
       "    </tr>\n",
       "    <tr>\n",
       "      <th>3</th>\n",
       "      <td>3</td>\n",
       "      <td>D</td>\n",
       "      <td>9</td>\n",
       "    </tr>\n",
       "    <tr>\n",
       "      <th>4</th>\n",
       "      <td>2</td>\n",
       "      <td>E</td>\n",
       "      <td>2</td>\n",
       "    </tr>\n",
       "    <tr>\n",
       "      <th>5</th>\n",
       "      <td>1</td>\n",
       "      <td>F</td>\n",
       "      <td>4</td>\n",
       "    </tr>\n",
       "  </tbody>\n",
       "</table>\n",
       "</div>"
      ],
      "text/plain": [
       "   col-a col-b  col-c\n",
       "0      6     A      5\n",
       "1      5     B      3\n",
       "2      4     C      6\n",
       "3      3     D      9\n",
       "4      2     E      2\n",
       "5      1     F      4"
      ]
     },
     "execution_count": 30,
     "metadata": {},
     "output_type": "execute_result"
    }
   ],
   "source": [
    "df1Rev"
   ]
  },
  {
   "cell_type": "code",
   "execution_count": 32,
   "id": "a7cdec02-38cf-4576-97cd-f844ee26c5c6",
   "metadata": {},
   "outputs": [],
   "source": [
    "# O comando merge irá buscar coincidências simultâneas do valor da coluna col-a e col-b\n",
    "dfcoincidentesRev = pd.merge(df1Rev, df2)"
   ]
  },
  {
   "cell_type": "code",
   "execution_count": 34,
   "id": "ca0d40d7-8174-4243-a6a6-34b687003c85",
   "metadata": {},
   "outputs": [
    {
     "data": {
      "text/html": [
       "<div>\n",
       "<style scoped>\n",
       "    .dataframe tbody tr th:only-of-type {\n",
       "        vertical-align: middle;\n",
       "    }\n",
       "\n",
       "    .dataframe tbody tr th {\n",
       "        vertical-align: top;\n",
       "    }\n",
       "\n",
       "    .dataframe thead th {\n",
       "        text-align: right;\n",
       "    }\n",
       "</style>\n",
       "<table border=\"1\" class=\"dataframe\">\n",
       "  <thead>\n",
       "    <tr style=\"text-align: right;\">\n",
       "      <th></th>\n",
       "      <th>col-a</th>\n",
       "      <th>col-b</th>\n",
       "      <th>col-c</th>\n",
       "      <th>col-d</th>\n",
       "    </tr>\n",
       "  </thead>\n",
       "  <tbody>\n",
       "  </tbody>\n",
       "</table>\n",
       "</div>"
      ],
      "text/plain": [
       "Empty DataFrame\n",
       "Columns: [col-a, col-b, col-c, col-d]\n",
       "Index: []"
      ]
     },
     "execution_count": 34,
     "metadata": {},
     "output_type": "execute_result"
    }
   ],
   "source": [
    "dfcoincidentesRev\n",
    "# Como não há coincidência alguma dos dois valores, simultâneamente, ele irá devolver um DataFrame vazio"
   ]
  },
  {
   "cell_type": "code",
   "execution_count": 35,
   "id": "5197376b-e10d-401c-b9da-52abf3156fb3",
   "metadata": {},
   "outputs": [],
   "source": [
    "# E o uso do on altera os resultados...\n",
    "dfcoinc1RevA = pd.merge(df1Rev, df2, on=('col-a'))"
   ]
  },
  {
   "cell_type": "code",
   "execution_count": 36,
   "id": "0e5c5c2d-732d-40ff-b109-47fde0bbace8",
   "metadata": {},
   "outputs": [
    {
     "data": {
      "text/html": [
       "<div>\n",
       "<style scoped>\n",
       "    .dataframe tbody tr th:only-of-type {\n",
       "        vertical-align: middle;\n",
       "    }\n",
       "\n",
       "    .dataframe tbody tr th {\n",
       "        vertical-align: top;\n",
       "    }\n",
       "\n",
       "    .dataframe thead th {\n",
       "        text-align: right;\n",
       "    }\n",
       "</style>\n",
       "<table border=\"1\" class=\"dataframe\">\n",
       "  <thead>\n",
       "    <tr style=\"text-align: right;\">\n",
       "      <th></th>\n",
       "      <th>col-a</th>\n",
       "      <th>col-b_x</th>\n",
       "      <th>col-c</th>\n",
       "      <th>col-b_y</th>\n",
       "      <th>col-d</th>\n",
       "    </tr>\n",
       "  </thead>\n",
       "  <tbody>\n",
       "    <tr>\n",
       "      <th>0</th>\n",
       "      <td>6</td>\n",
       "      <td>A</td>\n",
       "      <td>5</td>\n",
       "      <td>F</td>\n",
       "      <td>50</td>\n",
       "    </tr>\n",
       "    <tr>\n",
       "      <th>1</th>\n",
       "      <td>5</td>\n",
       "      <td>B</td>\n",
       "      <td>3</td>\n",
       "      <td>E</td>\n",
       "      <td>40</td>\n",
       "    </tr>\n",
       "    <tr>\n",
       "      <th>2</th>\n",
       "      <td>3</td>\n",
       "      <td>D</td>\n",
       "      <td>9</td>\n",
       "      <td>C</td>\n",
       "      <td>30</td>\n",
       "    </tr>\n",
       "    <tr>\n",
       "      <th>3</th>\n",
       "      <td>2</td>\n",
       "      <td>E</td>\n",
       "      <td>2</td>\n",
       "      <td>B</td>\n",
       "      <td>20</td>\n",
       "    </tr>\n",
       "    <tr>\n",
       "      <th>4</th>\n",
       "      <td>1</td>\n",
       "      <td>F</td>\n",
       "      <td>4</td>\n",
       "      <td>A</td>\n",
       "      <td>10</td>\n",
       "    </tr>\n",
       "  </tbody>\n",
       "</table>\n",
       "</div>"
      ],
      "text/plain": [
       "   col-a col-b_x  col-c col-b_y  col-d\n",
       "0      6       A      5       F     50\n",
       "1      5       B      3       E     40\n",
       "2      3       D      9       C     30\n",
       "3      2       E      2       B     20\n",
       "4      1       F      4       A     10"
      ]
     },
     "execution_count": 36,
     "metadata": {},
     "output_type": "execute_result"
    }
   ],
   "source": [
    "dfcoinc1RevA"
   ]
  },
  {
   "cell_type": "code",
   "execution_count": 37,
   "id": "4b492289-01a7-487d-9b12-ee0a90cfd8b6",
   "metadata": {},
   "outputs": [],
   "source": [
    "dfcoinc1RevB = pd.merge(df1Rev, df2, on=('col-b'))"
   ]
  },
  {
   "cell_type": "code",
   "execution_count": 38,
   "id": "c7b2cc92-8007-40b2-8518-3947cea5ce69",
   "metadata": {},
   "outputs": [
    {
     "data": {
      "text/html": [
       "<div>\n",
       "<style scoped>\n",
       "    .dataframe tbody tr th:only-of-type {\n",
       "        vertical-align: middle;\n",
       "    }\n",
       "\n",
       "    .dataframe tbody tr th {\n",
       "        vertical-align: top;\n",
       "    }\n",
       "\n",
       "    .dataframe thead th {\n",
       "        text-align: right;\n",
       "    }\n",
       "</style>\n",
       "<table border=\"1\" class=\"dataframe\">\n",
       "  <thead>\n",
       "    <tr style=\"text-align: right;\">\n",
       "      <th></th>\n",
       "      <th>col-a_x</th>\n",
       "      <th>col-b</th>\n",
       "      <th>col-c</th>\n",
       "      <th>col-a_y</th>\n",
       "      <th>col-d</th>\n",
       "    </tr>\n",
       "  </thead>\n",
       "  <tbody>\n",
       "    <tr>\n",
       "      <th>0</th>\n",
       "      <td>6</td>\n",
       "      <td>A</td>\n",
       "      <td>5</td>\n",
       "      <td>1</td>\n",
       "      <td>10</td>\n",
       "    </tr>\n",
       "    <tr>\n",
       "      <th>1</th>\n",
       "      <td>5</td>\n",
       "      <td>B</td>\n",
       "      <td>3</td>\n",
       "      <td>2</td>\n",
       "      <td>20</td>\n",
       "    </tr>\n",
       "    <tr>\n",
       "      <th>2</th>\n",
       "      <td>4</td>\n",
       "      <td>C</td>\n",
       "      <td>6</td>\n",
       "      <td>3</td>\n",
       "      <td>30</td>\n",
       "    </tr>\n",
       "    <tr>\n",
       "      <th>3</th>\n",
       "      <td>2</td>\n",
       "      <td>E</td>\n",
       "      <td>2</td>\n",
       "      <td>5</td>\n",
       "      <td>40</td>\n",
       "    </tr>\n",
       "    <tr>\n",
       "      <th>4</th>\n",
       "      <td>1</td>\n",
       "      <td>F</td>\n",
       "      <td>4</td>\n",
       "      <td>6</td>\n",
       "      <td>50</td>\n",
       "    </tr>\n",
       "  </tbody>\n",
       "</table>\n",
       "</div>"
      ],
      "text/plain": [
       "   col-a_x col-b  col-c  col-a_y  col-d\n",
       "0        6     A      5        1     10\n",
       "1        5     B      3        2     20\n",
       "2        4     C      6        3     30\n",
       "3        2     E      2        5     40\n",
       "4        1     F      4        6     50"
      ]
     },
     "execution_count": 38,
     "metadata": {},
     "output_type": "execute_result"
    }
   ],
   "source": [
    "dfcoinc1RevB"
   ]
  },
  {
   "cell_type": "code",
   "execution_count": null,
   "id": "db68d6f3-2a89-4267-80f5-cb792808a827",
   "metadata": {},
   "outputs": [],
   "source": []
  },
  {
   "cell_type": "code",
   "execution_count": null,
   "id": "99593f4f-28a6-43dd-adae-23adfefaa613",
   "metadata": {},
   "outputs": [],
   "source": [
    "# Qual a vantagem de utilizar o pandas...\n",
    "# Na sequência, há um conjunto modelo de dados de um departamento de Recursos Humanos\n",
    "# A partir desses dados, é possível identificar uma das primeiras vantagens do pandas: os cálculos \n",
    "# estatísticos embutidos no seu processamento...."
   ]
  },
  {
   "cell_type": "code",
   "execution_count": 39,
   "id": "8eb96d16-84ab-476c-a9c6-cf58bfbdb763",
   "metadata": {},
   "outputs": [],
   "source": [
    "# Dict of lists - Colaboradores\n",
    "colaboradores = (\n",
    "    { \"Nome\" :['Alberto','Luiz','Carlos','Sandra','Ana','Maria'],\n",
    "      \"Sobrenome\" : ['Faria','Souza','Silva','Oliveira','Castro','Pereira'],\n",
    "      \"IDCargo\" : [5,2,8,3,1,8],\n",
    "      \"IDColaborador\" : [3,4,8,9,10,11]\n",
    "    }\n",
    ")"
   ]
  },
  {
   "cell_type": "code",
   "execution_count": 40,
   "id": "f4db4555-8cf1-44df-a2ef-b3ec435742f1",
   "metadata": {},
   "outputs": [],
   "source": [
    "# Dict of lists - Cargos\n",
    "cargos = (\n",
    "    {\n",
    "        \"IDCargo\" : [1,2,3,4,5,6,7,8],\n",
    "        \"Cargo\" : ['Diretoria Geral','Diretor Comercial','Diretor Financeiro','Gerente Operacional','Gerente Comercial','Coordenador','Analista','Vendedor']\n",
    "    }\n",
    ")"
   ]
  },
  {
   "cell_type": "code",
   "execution_count": 41,
   "id": "93a1be01-5db8-48f0-87c7-f08b0ad3f8af",
   "metadata": {},
   "outputs": [],
   "source": [
    "# Dict of lists - Salários\n",
    "salarios = (\n",
    "    {\n",
    "      \"Salario\" : [1200.00,3800.00,1200.00,3800.00,8000.00,2000.00],\n",
    "      \"IDCargo\" : [8,2,8,3,1,5],\n",
    "      \"IDColaborador\" : [11,4,8,9,10,3]\n",
    "    }\n",
    ")"
   ]
  },
  {
   "cell_type": "code",
   "execution_count": 44,
   "id": "2324a1aa-e153-4435-aa65-1c3efb03fa32",
   "metadata": {},
   "outputs": [
    {
     "data": {
      "text/html": [
       "<div>\n",
       "<style scoped>\n",
       "    .dataframe tbody tr th:only-of-type {\n",
       "        vertical-align: middle;\n",
       "    }\n",
       "\n",
       "    .dataframe tbody tr th {\n",
       "        vertical-align: top;\n",
       "    }\n",
       "\n",
       "    .dataframe thead th {\n",
       "        text-align: right;\n",
       "    }\n",
       "</style>\n",
       "<table border=\"1\" class=\"dataframe\">\n",
       "  <thead>\n",
       "    <tr style=\"text-align: right;\">\n",
       "      <th></th>\n",
       "      <th>Nome</th>\n",
       "      <th>Sobrenome</th>\n",
       "      <th>IDCargo</th>\n",
       "      <th>IDColaborador</th>\n",
       "      <th>Salario</th>\n",
       "      <th>Cargo</th>\n",
       "    </tr>\n",
       "  </thead>\n",
       "  <tbody>\n",
       "    <tr>\n",
       "      <th>0</th>\n",
       "      <td>Alberto</td>\n",
       "      <td>Faria</td>\n",
       "      <td>5</td>\n",
       "      <td>3</td>\n",
       "      <td>2000.0</td>\n",
       "      <td>Gerente Comercial</td>\n",
       "    </tr>\n",
       "    <tr>\n",
       "      <th>1</th>\n",
       "      <td>Luiz</td>\n",
       "      <td>Souza</td>\n",
       "      <td>2</td>\n",
       "      <td>4</td>\n",
       "      <td>3800.0</td>\n",
       "      <td>Diretor Comercial</td>\n",
       "    </tr>\n",
       "    <tr>\n",
       "      <th>2</th>\n",
       "      <td>Carlos</td>\n",
       "      <td>Silva</td>\n",
       "      <td>8</td>\n",
       "      <td>8</td>\n",
       "      <td>1200.0</td>\n",
       "      <td>Vendedor</td>\n",
       "    </tr>\n",
       "    <tr>\n",
       "      <th>3</th>\n",
       "      <td>Maria</td>\n",
       "      <td>Pereira</td>\n",
       "      <td>8</td>\n",
       "      <td>11</td>\n",
       "      <td>1200.0</td>\n",
       "      <td>Vendedor</td>\n",
       "    </tr>\n",
       "    <tr>\n",
       "      <th>4</th>\n",
       "      <td>Sandra</td>\n",
       "      <td>Oliveira</td>\n",
       "      <td>3</td>\n",
       "      <td>9</td>\n",
       "      <td>3800.0</td>\n",
       "      <td>Diretor Financeiro</td>\n",
       "    </tr>\n",
       "    <tr>\n",
       "      <th>5</th>\n",
       "      <td>Ana</td>\n",
       "      <td>Castro</td>\n",
       "      <td>1</td>\n",
       "      <td>10</td>\n",
       "      <td>8000.0</td>\n",
       "      <td>Diretoria Geral</td>\n",
       "    </tr>\n",
       "  </tbody>\n",
       "</table>\n",
       "</div>"
      ],
      "text/plain": [
       "      Nome Sobrenome  IDCargo  IDColaborador  Salario               Cargo\n",
       "0  Alberto     Faria        5              3   2000.0   Gerente Comercial\n",
       "1     Luiz     Souza        2              4   3800.0   Diretor Comercial\n",
       "2   Carlos     Silva        8              8   1200.0            Vendedor\n",
       "3    Maria   Pereira        8             11   1200.0            Vendedor\n",
       "4   Sandra  Oliveira        3              9   3800.0  Diretor Financeiro\n",
       "5      Ana    Castro        1             10   8000.0     Diretoria Geral"
      ]
     },
     "execution_count": 44,
     "metadata": {},
     "output_type": "execute_result"
    }
   ],
   "source": [
    "dfColaboradores = pd.DataFrame(colaboradores)\n",
    "dfSalarios = pd.DataFrame(salarios)\n",
    "dfCargos = pd.DataFrame(cargos)\n",
    "dfSalariosColaboradores = pd.merge(dfColaboradores,dfSalarios)\n",
    "dfCargosSalariosColaboradores = pd.merge(dfSalariosColaboradores,dfCargos)\n",
    "dfCargosSalariosColaboradores"
   ]
  },
  {
   "cell_type": "code",
   "execution_count": 47,
   "id": "663a5058-e79a-4e8b-a01c-2719aaf9b2b8",
   "metadata": {},
   "outputs": [
    {
     "data": {
      "text/html": [
       "<div>\n",
       "<style scoped>\n",
       "    .dataframe tbody tr th:only-of-type {\n",
       "        vertical-align: middle;\n",
       "    }\n",
       "\n",
       "    .dataframe tbody tr th {\n",
       "        vertical-align: top;\n",
       "    }\n",
       "\n",
       "    .dataframe thead th {\n",
       "        text-align: right;\n",
       "    }\n",
       "</style>\n",
       "<table border=\"1\" class=\"dataframe\">\n",
       "  <thead>\n",
       "    <tr style=\"text-align: right;\">\n",
       "      <th></th>\n",
       "      <th>IDCargo</th>\n",
       "      <th>IDColaborador</th>\n",
       "      <th>Salario</th>\n",
       "    </tr>\n",
       "  </thead>\n",
       "  <tbody>\n",
       "    <tr>\n",
       "      <th>count</th>\n",
       "      <td>6.000000</td>\n",
       "      <td>6.000000</td>\n",
       "      <td>6.000000</td>\n",
       "    </tr>\n",
       "    <tr>\n",
       "      <th>mean</th>\n",
       "      <td>4.500000</td>\n",
       "      <td>7.500000</td>\n",
       "      <td>3333.333333</td>\n",
       "    </tr>\n",
       "    <tr>\n",
       "      <th>std</th>\n",
       "      <td>3.016621</td>\n",
       "      <td>3.271085</td>\n",
       "      <td>2572.676946</td>\n",
       "    </tr>\n",
       "    <tr>\n",
       "      <th>min</th>\n",
       "      <td>1.000000</td>\n",
       "      <td>3.000000</td>\n",
       "      <td>1200.000000</td>\n",
       "    </tr>\n",
       "    <tr>\n",
       "      <th>25%</th>\n",
       "      <td>2.250000</td>\n",
       "      <td>5.000000</td>\n",
       "      <td>1400.000000</td>\n",
       "    </tr>\n",
       "    <tr>\n",
       "      <th>50%</th>\n",
       "      <td>4.000000</td>\n",
       "      <td>8.500000</td>\n",
       "      <td>2900.000000</td>\n",
       "    </tr>\n",
       "    <tr>\n",
       "      <th>75%</th>\n",
       "      <td>7.250000</td>\n",
       "      <td>9.750000</td>\n",
       "      <td>3800.000000</td>\n",
       "    </tr>\n",
       "    <tr>\n",
       "      <th>max</th>\n",
       "      <td>8.000000</td>\n",
       "      <td>11.000000</td>\n",
       "      <td>8000.000000</td>\n",
       "    </tr>\n",
       "  </tbody>\n",
       "</table>\n",
       "</div>"
      ],
      "text/plain": [
       "        IDCargo  IDColaborador      Salario\n",
       "count  6.000000       6.000000     6.000000\n",
       "mean   4.500000       7.500000  3333.333333\n",
       "std    3.016621       3.271085  2572.676946\n",
       "min    1.000000       3.000000  1200.000000\n",
       "25%    2.250000       5.000000  1400.000000\n",
       "50%    4.000000       8.500000  2900.000000\n",
       "75%    7.250000       9.750000  3800.000000\n",
       "max    8.000000      11.000000  8000.000000"
      ]
     },
     "execution_count": 47,
     "metadata": {},
     "output_type": "execute_result"
    }
   ],
   "source": [
    "dfCargosSalariosColaboradores.describe()\n",
    "# DataFrame.describe() apresenta, para cada coluna reconhecida como numérica:\n",
    "# O contador de ocorrências, o valor médio, a média padrão, o valor mínimo, a divisão por quartis e o valor máximo."
   ]
  },
  {
   "cell_type": "code",
   "execution_count": null,
   "id": "c94a1e69-21e6-4a20-bad3-e0e08e5a0653",
   "metadata": {},
   "outputs": [],
   "source": []
  }
 ],
 "metadata": {
  "kernelspec": {
   "display_name": "Python 3 (ipykernel)",
   "language": "python",
   "name": "python3"
  },
  "language_info": {
   "codemirror_mode": {
    "name": "ipython",
    "version": 3
   },
   "file_extension": ".py",
   "mimetype": "text/x-python",
   "name": "python",
   "nbconvert_exporter": "python",
   "pygments_lexer": "ipython3",
   "version": "3.10.6"
  }
 },
 "nbformat": 4,
 "nbformat_minor": 5
}
