{
 "cells": [
  {
   "cell_type": "code",
   "execution_count": null,
   "id": "8f099f48-bdb1-4428-9a56-9e6f3de96951",
   "metadata": {},
   "outputs": [],
   "source": [
    "#As estruturas de dados do Pandas:\n",
    "#Antes de conhecermos o Dataframe, precisamos conhecer seu principal elemento, que é a Serie:\n",
    "#Uma Serie no panda é uma lista de elementos, unidimensional e rotulada, capaz de armazenar qualquer tipo de dado\n",
    "#Se não fornecermos um conjunto de rótulos, ele irá criar um…\n"
   ]
  },
  {
   "cell_type": "code",
   "execution_count": null,
   "id": "e2d4cca2-02f1-484a-9a77-de9f004c1b4a",
   "metadata": {},
   "outputs": [],
   "source": [
    "#importando o Pandas."
   ]
  },
  {
   "cell_type": "code",
   "execution_count": 3,
   "id": "960056fe-fafc-40f8-a03a-2d62dcf0e49f",
   "metadata": {},
   "outputs": [],
   "source": [
    "import pandas as pd"
   ]
  },
  {
   "cell_type": "code",
   "execution_count": 4,
   "id": "701bac21-3286-4e17-bf97-c8a5a1a89342",
   "metadata": {},
   "outputs": [],
   "source": [
    "lista_dados=['asa','bico','vaso','casa']"
   ]
  },
  {
   "cell_type": "code",
   "execution_count": 5,
   "id": "4658b107-7068-4f0e-ae89-f40ed6824bef",
   "metadata": {},
   "outputs": [],
   "source": [
    "serieA = pd.Series(lista_dados)"
   ]
  },
  {
   "cell_type": "code",
   "execution_count": 7,
   "id": "f2c4c644-0073-439a-805e-5fffc9db81ae",
   "metadata": {},
   "outputs": [],
   "source": [
    "indiceA=serieA.index"
   ]
  },
  {
   "cell_type": "code",
   "execution_count": null,
   "id": "6c1353cf-1c18-48ee-b3b7-5bf0e0012854",
   "metadata": {},
   "outputs": [],
   "source": [
    "#O resultado impresso por esse comando:\n",
    "#RangeIndex(start=0, stop=4, step=1) \n",
    "#Indica que ele criou um elemento do tipo RangeIndex que é otimizado para velocidade de computação\n",
    "#Quando não fornecermos um rótulo para uma Serie ou um Dataframe, ele utilizará esse tipo...\n"
   ]
  },
  {
   "cell_type": "code",
   "execution_count": 8,
   "id": "cee88d54-07bc-4678-a9fc-767ab1564256",
   "metadata": {},
   "outputs": [
    {
     "name": "stdout",
     "output_type": "stream",
     "text": [
      "RangeIndex(start=0, stop=4, step=1)\n"
     ]
    }
   ],
   "source": [
    "print(indiceA)"
   ]
  },
  {
   "cell_type": "code",
   "execution_count": null,
   "id": "a079f237-e139-4797-8ff9-72a5f9012a92",
   "metadata": {},
   "outputs": [],
   "source": [
    "#A Serie é sempre apresentada como uma tabela de valores com o índice e o valor.\n",
    "#Ao final da lista, é informado o tipo de dado\n"
   ]
  },
  {
   "cell_type": "code",
   "execution_count": 9,
   "id": "c5af549a-c9a1-46da-9d4c-47ac56bcaa26",
   "metadata": {},
   "outputs": [
    {
     "data": {
      "text/plain": [
       "0     asa\n",
       "1    bico\n",
       "2    vaso\n",
       "3    casa\n",
       "dtype: object"
      ]
     },
     "execution_count": 9,
     "metadata": {},
     "output_type": "execute_result"
    }
   ],
   "source": [
    "serieA"
   ]
  },
  {
   "cell_type": "code",
   "execution_count": 27,
   "id": "3add9672-a94e-4aba-a3e0-ca6b77cfb664",
   "metadata": {},
   "outputs": [],
   "source": [
    "indicesB = ['a','b','c','d']"
   ]
  },
  {
   "cell_type": "code",
   "execution_count": 28,
   "id": "f3776533-9194-4446-a8e0-a3f219b861c8",
   "metadata": {},
   "outputs": [],
   "source": [
    "valoresB = [10,20,30,40]"
   ]
  },
  {
   "cell_type": "code",
   "execution_count": 29,
   "id": "ff127d09-0c00-455a-95d7-cb884e4ea028",
   "metadata": {},
   "outputs": [],
   "source": [
    "serieB = pd.Series(valoresB, index=indicesB)"
   ]
  },
  {
   "cell_type": "code",
   "execution_count": 30,
   "id": "d80f9fe0-6ab2-4412-965c-ce7a7230677c",
   "metadata": {},
   "outputs": [],
   "source": [
    "indiceB = serieB.index"
   ]
  },
  {
   "cell_type": "code",
   "execution_count": null,
   "id": "3da680aa-9bd3-40a3-8b62-2a2964ddcad6",
   "metadata": {},
   "outputs": [],
   "source": [
    "#O resultado: Indica que o pandas criou um tipo Index para essa Serie em que o data type é um objeto python\n"
   ]
  },
  {
   "cell_type": "code",
   "execution_count": 31,
   "id": "e9ebf082-3579-41d5-9896-d295f8decf20",
   "metadata": {},
   "outputs": [
    {
     "name": "stdout",
     "output_type": "stream",
     "text": [
      "Index(['a', 'b', 'c', 'd'], dtype='object')\n"
     ]
    }
   ],
   "source": [
    "print(indiceB)"
   ]
  },
  {
   "cell_type": "code",
   "execution_count": null,
   "id": "3c7f072b-c71f-48c4-9052-d8323271446d",
   "metadata": {},
   "outputs": [],
   "source": [
    "#Agora, nossa lista com rótulos do tipo objeto, tem valores do tipo int64"
   ]
  },
  {
   "cell_type": "code",
   "execution_count": 32,
   "id": "89ed0cb4-ee63-4b07-850c-82134bbb4388",
   "metadata": {},
   "outputs": [
    {
     "data": {
      "text/plain": [
       "a    10\n",
       "b    20\n",
       "c    30\n",
       "d    40\n",
       "dtype: int64"
      ]
     },
     "execution_count": 32,
     "metadata": {},
     "output_type": "execute_result"
    }
   ],
   "source": [
    "serieB"
   ]
  },
  {
   "cell_type": "code",
   "execution_count": 33,
   "id": "832dfa87-b758-4486-8b76-f78c165fb0bd",
   "metadata": {},
   "outputs": [],
   "source": [
    "indicesC = ['a','b','c','d','e']"
   ]
  },
  {
   "cell_type": "code",
   "execution_count": 34,
   "id": "90b67db7-b3a3-4193-9af2-5623a3759184",
   "metadata": {},
   "outputs": [],
   "source": [
    "valoresC = (10,20,30,40)"
   ]
  },
  {
   "cell_type": "code",
   "execution_count": null,
   "id": "5702535e-3e72-47cd-820f-0d822cd58882",
   "metadata": {},
   "outputs": [],
   "source": [
    "#O resultado do comando serieC = pd.Series(valoresC, index=indicesC)\n",
    "#ValueError: Length of passed values is 4, index implies 5.\n",
    "#O motivo é que o índice indica o número de valores que deverá ser fornecido. O mesmo irá ocorrer se o número de valores for maior do que o número de índices, com os valores invertidos..."
   ]
  },
  {
   "cell_type": "code",
   "execution_count": 35,
   "id": "92de55f9-c7e1-418d-b9f6-c3ce2122ad6b",
   "metadata": {},
   "outputs": [
    {
     "ename": "ValueError",
     "evalue": "Length of values (4) does not match length of index (5)",
     "output_type": "error",
     "traceback": [
      "\u001b[1;31m---------------------------------------------------------------------------\u001b[0m",
      "\u001b[1;31mValueError\u001b[0m                                Traceback (most recent call last)",
      "Input \u001b[1;32mIn [35]\u001b[0m, in \u001b[0;36m<cell line: 1>\u001b[1;34m()\u001b[0m\n\u001b[1;32m----> 1\u001b[0m serieC \u001b[38;5;241m=\u001b[39m \u001b[43mpd\u001b[49m\u001b[38;5;241;43m.\u001b[39;49m\u001b[43mSeries\u001b[49m\u001b[43m(\u001b[49m\u001b[43mvaloresC\u001b[49m\u001b[43m,\u001b[49m\u001b[43m \u001b[49m\u001b[43mindex\u001b[49m\u001b[38;5;241;43m=\u001b[39;49m\u001b[43mindicesC\u001b[49m\u001b[43m)\u001b[49m\n",
      "File \u001b[1;32m~\\prog_db\\jupyter\\lib\\site-packages\\pandas\\core\\series.py:442\u001b[0m, in \u001b[0;36mSeries.__init__\u001b[1;34m(self, data, index, dtype, name, copy, fastpath)\u001b[0m\n\u001b[0;32m    440\u001b[0m     index \u001b[38;5;241m=\u001b[39m default_index(\u001b[38;5;28mlen\u001b[39m(data))\n\u001b[0;32m    441\u001b[0m \u001b[38;5;28;01melif\u001b[39;00m is_list_like(data):\n\u001b[1;32m--> 442\u001b[0m     \u001b[43mcom\u001b[49m\u001b[38;5;241;43m.\u001b[39;49m\u001b[43mrequire_length_match\u001b[49m\u001b[43m(\u001b[49m\u001b[43mdata\u001b[49m\u001b[43m,\u001b[49m\u001b[43m \u001b[49m\u001b[43mindex\u001b[49m\u001b[43m)\u001b[49m\n\u001b[0;32m    444\u001b[0m \u001b[38;5;66;03m# create/copy the manager\u001b[39;00m\n\u001b[0;32m    445\u001b[0m \u001b[38;5;28;01mif\u001b[39;00m \u001b[38;5;28misinstance\u001b[39m(data, (SingleBlockManager, SingleArrayManager)):\n",
      "File \u001b[1;32m~\\prog_db\\jupyter\\lib\\site-packages\\pandas\\core\\common.py:557\u001b[0m, in \u001b[0;36mrequire_length_match\u001b[1;34m(data, index)\u001b[0m\n\u001b[0;32m    553\u001b[0m \u001b[38;5;124;03m\"\"\"\u001b[39;00m\n\u001b[0;32m    554\u001b[0m \u001b[38;5;124;03mCheck the length of data matches the length of the index.\u001b[39;00m\n\u001b[0;32m    555\u001b[0m \u001b[38;5;124;03m\"\"\"\u001b[39;00m\n\u001b[0;32m    556\u001b[0m \u001b[38;5;28;01mif\u001b[39;00m \u001b[38;5;28mlen\u001b[39m(data) \u001b[38;5;241m!=\u001b[39m \u001b[38;5;28mlen\u001b[39m(index):\n\u001b[1;32m--> 557\u001b[0m     \u001b[38;5;28;01mraise\u001b[39;00m \u001b[38;5;167;01mValueError\u001b[39;00m(\n\u001b[0;32m    558\u001b[0m         \u001b[38;5;124m\"\u001b[39m\u001b[38;5;124mLength of values \u001b[39m\u001b[38;5;124m\"\u001b[39m\n\u001b[0;32m    559\u001b[0m         \u001b[38;5;124mf\u001b[39m\u001b[38;5;124m\"\u001b[39m\u001b[38;5;124m(\u001b[39m\u001b[38;5;132;01m{\u001b[39;00m\u001b[38;5;28mlen\u001b[39m(data)\u001b[38;5;132;01m}\u001b[39;00m\u001b[38;5;124m) \u001b[39m\u001b[38;5;124m\"\u001b[39m\n\u001b[0;32m    560\u001b[0m         \u001b[38;5;124m\"\u001b[39m\u001b[38;5;124mdoes not match length of index \u001b[39m\u001b[38;5;124m\"\u001b[39m\n\u001b[0;32m    561\u001b[0m         \u001b[38;5;124mf\u001b[39m\u001b[38;5;124m\"\u001b[39m\u001b[38;5;124m(\u001b[39m\u001b[38;5;132;01m{\u001b[39;00m\u001b[38;5;28mlen\u001b[39m(index)\u001b[38;5;132;01m}\u001b[39;00m\u001b[38;5;124m)\u001b[39m\u001b[38;5;124m\"\u001b[39m\n\u001b[0;32m    562\u001b[0m     )\n",
      "\u001b[1;31mValueError\u001b[0m: Length of values (4) does not match length of index (5)"
     ]
    }
   ],
   "source": [
    "serieC = pd.Series(valoresC, index=indicesC)"
   ]
  },
  {
   "cell_type": "code",
   "execution_count": 36,
   "id": "ec23bd09-fa8f-4bb4-b0d5-6d6913356995",
   "metadata": {},
   "outputs": [],
   "source": [
    "indicesC = ['a','b','c','d','d']"
   ]
  },
  {
   "cell_type": "code",
   "execution_count": 37,
   "id": "da7ea5e3-4e5a-4377-a57c-14b488acd350",
   "metadata": {},
   "outputs": [],
   "source": [
    "valoresC = (10,20,30,40,50)"
   ]
  },
  {
   "cell_type": "code",
   "execution_count": 38,
   "id": "a97ffe8d-f3c3-49e6-a124-7d7bb2988271",
   "metadata": {},
   "outputs": [],
   "source": [
    "serieC = pd.Series(valoresC, index=indicesC)"
   ]
  },
  {
   "cell_type": "code",
   "execution_count": 39,
   "id": "ae90354c-999c-494c-ab45-a12f75b014ce",
   "metadata": {},
   "outputs": [],
   "source": [
    "indiceC=serieC.index"
   ]
  },
  {
   "cell_type": "code",
   "execution_count": null,
   "id": "85f82dc6-8fa7-4ae9-9588-63e12c27bc92",
   "metadata": {},
   "outputs": [],
   "source": [
    "#O resultado:\n",
    "#Indica que o pandas criou um tipo Index para essa Serie, com um valor repetido para a letra ‘d’"
   ]
  },
  {
   "cell_type": "code",
   "execution_count": 40,
   "id": "85788a66-78ac-4e2b-afd9-9691d47edbef",
   "metadata": {},
   "outputs": [
    {
     "name": "stdout",
     "output_type": "stream",
     "text": [
      "Index(['a', 'b', 'c', 'd', 'd'], dtype='object')\n"
     ]
    }
   ],
   "source": [
    "print(indiceC)"
   ]
  },
  {
   "cell_type": "code",
   "execution_count": null,
   "id": "5aac0591-6676-43fb-9015-350905fdb8a2",
   "metadata": {},
   "outputs": [],
   "source": [
    "#Agora, nossa lista com rótulos do tipo objeto, tem valores do tipo int64"
   ]
  },
  {
   "cell_type": "code",
   "execution_count": 41,
   "id": "d8504aeb-ab75-4a28-912e-20485e841a71",
   "metadata": {},
   "outputs": [
    {
     "data": {
      "text/plain": [
       "a    10\n",
       "b    20\n",
       "c    30\n",
       "d    40\n",
       "d    50\n",
       "dtype: int64"
      ]
     },
     "execution_count": 41,
     "metadata": {},
     "output_type": "execute_result"
    }
   ],
   "source": [
    "serieC"
   ]
  },
  {
   "cell_type": "code",
   "execution_count": 42,
   "id": "722791fb-39e4-48cb-a5c9-8fea75fd823d",
   "metadata": {},
   "outputs": [],
   "source": [
    "indicesD = (10,20,30,40,50)"
   ]
  },
  {
   "cell_type": "code",
   "execution_count": 43,
   "id": "93d817a3-d747-4d18-87a6-86c77b8e359f",
   "metadata": {},
   "outputs": [],
   "source": [
    "valoresD = (100,200,300,400,500)"
   ]
  },
  {
   "cell_type": "code",
   "execution_count": 44,
   "id": "c3c05414-61b0-4be5-9025-f62c8657158e",
   "metadata": {},
   "outputs": [],
   "source": [
    "serieD = pd.Series(valoresD, index=indicesD)"
   ]
  },
  {
   "cell_type": "code",
   "execution_count": 45,
   "id": "ba4c5eed-389f-4647-8de1-75ff182e43a5",
   "metadata": {},
   "outputs": [],
   "source": [
    "indiceD=serieD.index"
   ]
  },
  {
   "cell_type": "code",
   "execution_count": null,
   "id": "2f62ec5e-296d-4bb7-a411-0a317ed6ff77",
   "metadata": {},
   "outputs": [],
   "source": [
    "#A resposta:\n",
    "#Int64Index([10, 20, 30, 40, 50], dtype='int64')\n",
    "#Indica que quando o Index fornecido for numérico, o acesso somente poderá ser feito pelos índices fornecidos\n",
    "#Não será possível utilizar os índices posicionais iniciando em zero...\n"
   ]
  },
  {
   "cell_type": "code",
   "execution_count": 46,
   "id": "ecf355ce-2ba5-4966-a0c0-b0963ad58a41",
   "metadata": {},
   "outputs": [
    {
     "name": "stdout",
     "output_type": "stream",
     "text": [
      "Int64Index([10, 20, 30, 40, 50], dtype='int64')\n"
     ]
    }
   ],
   "source": [
    "print(indiceD)"
   ]
  },
  {
   "cell_type": "code",
   "execution_count": null,
   "id": "3c5652b1-ec78-4c10-bfb3-6552da6b3aaa",
   "metadata": {},
   "outputs": [],
   "source": [
    "#print(type(20)) informa a classe e o tipo\n",
    "#printtype(20) informa o tipo"
   ]
  },
  {
   "cell_type": "code",
   "execution_count": 62,
   "id": "a4165cbf-2d4b-4680-a6d1-a2b416e6729d",
   "metadata": {},
   "outputs": [
    {
     "name": "stdout",
     "output_type": "stream",
     "text": [
      "<class 'int'>\n"
     ]
    }
   ],
   "source": [
    "print(type(20))"
   ]
  },
  {
   "cell_type": "code",
   "execution_count": 63,
   "id": "a806ff71-bcf3-4d6a-a7f0-c4de128b0c77",
   "metadata": {},
   "outputs": [
    {
     "data": {
      "text/plain": [
       "int"
      ]
     },
     "execution_count": 63,
     "metadata": {},
     "output_type": "execute_result"
    }
   ],
   "source": [
    "type(20)"
   ]
  },
  {
   "cell_type": "code",
   "execution_count": null,
   "id": "cb49fc06-a552-448c-84e2-a37f4b091f14",
   "metadata": {},
   "outputs": [],
   "source": [
    "#É possível recuperar os valores da Serie de algumas formas:\n",
    "#Se não foi fornecido um index para a Serie, os valores individuais somente podem ser acessados pela sua posição:\n",
    "#serieA[0]\n",
    "#'asa'\n",
    "#O índice deve ser menor do que o size do RangeIndex criado…\n",
    "#tamanho = indiceA.size\n",
    "#limite = tamanho-1 // Lembre-se: as sequências iniciam-se na posição 0"
   ]
  },
  {
   "cell_type": "code",
   "execution_count": null,
   "id": "9ef7d9ab-ae52-436b-a4fc-853bc62e8ba3",
   "metadata": {},
   "outputs": [],
   "source": [
    "#Se for fornecido um index para a Serie, os valores individuais podem ser acessados pela sua posição numérica e \n",
    "#pelo indice fornecido."
   ]
  },
  {
   "cell_type": "code",
   "execution_count": 47,
   "id": "0278f3ff-5863-422d-ad45-840c88bc99e5",
   "metadata": {},
   "outputs": [
    {
     "data": {
      "text/plain": [
       "10"
      ]
     },
     "execution_count": 47,
     "metadata": {},
     "output_type": "execute_result"
    }
   ],
   "source": [
    "serieB[0]"
   ]
  },
  {
   "cell_type": "code",
   "execution_count": 48,
   "id": "2af3ecb8-0ec6-4670-841d-eba79f13e035",
   "metadata": {},
   "outputs": [
    {
     "data": {
      "text/plain": [
       "30"
      ]
     },
     "execution_count": 48,
     "metadata": {},
     "output_type": "execute_result"
    }
   ],
   "source": [
    "serieB['c']"
   ]
  },
  {
   "cell_type": "code",
   "execution_count": null,
   "id": "963860c3-27d5-4890-b9ac-87261e242c41",
   "metadata": {},
   "outputs": [],
   "source": [
    "#tamanho do indice"
   ]
  },
  {
   "cell_type": "code",
   "execution_count": 52,
   "id": "6866fb8b-3fd6-447f-a601-78b793a5c1c2",
   "metadata": {},
   "outputs": [
    {
     "data": {
      "text/plain": [
       "4"
      ]
     },
     "execution_count": 52,
     "metadata": {},
     "output_type": "execute_result"
    }
   ],
   "source": [
    "indiceA.size"
   ]
  },
  {
   "cell_type": "code",
   "execution_count": null,
   "id": "4e1dc612-2d19-47d4-ba49-5eff797d7776",
   "metadata": {},
   "outputs": [],
   "source": [
    "#No caso de o índice corresponder a mais de um valor, será retornada uma nova Serie, com os valores correspondentes…\n",
    "#type(serieC['d'])\n",
    "#pandas.core.series.Series\n",
    "#Resultado do print:\n",
    "#d    40\n",
    "#d    50\n",
    "#dtype: int64\n"
   ]
  },
  {
   "cell_type": "code",
   "execution_count": 49,
   "id": "13e510a3-91c4-443f-a70d-b4f8d6e4ebd3",
   "metadata": {},
   "outputs": [
    {
     "data": {
      "text/plain": [
       "d    40\n",
       "d    50\n",
       "dtype: int64"
      ]
     },
     "execution_count": 49,
     "metadata": {},
     "output_type": "execute_result"
    }
   ],
   "source": [
    "serieC['d']"
   ]
  },
  {
   "cell_type": "code",
   "execution_count": null,
   "id": "d346ba24-9946-487c-bbaa-a99e9f0592be",
   "metadata": {},
   "outputs": [],
   "source": []
  },
  {
   "cell_type": "code",
   "execution_count": null,
   "id": "36f45743-8100-43d2-b828-a758e253684e",
   "metadata": {},
   "outputs": [],
   "source": [
    "#A Serie possui também um método get que não irá gerar um erro se for utilizado:"
   ]
  },
  {
   "cell_type": "code",
   "execution_count": 50,
   "id": "2b409146-bb4b-4da6-84f1-7622f91616cf",
   "metadata": {},
   "outputs": [],
   "source": [
    "serieA.get(100)"
   ]
  },
  {
   "cell_type": "code",
   "execution_count": null,
   "id": "415aab4c-5d18-4ba9-bb8e-dcb393e0ce43",
   "metadata": {},
   "outputs": [],
   "source": [
    "#Não retornará valor. Também é possível retornar um valor default, utilizando a sintaxe:"
   ]
  },
  {
   "cell_type": "code",
   "execution_count": null,
   "id": "42841d27-465f-4219-8e94-146ab878f7ca",
   "metadata": {},
   "outputs": [],
   "source": [
    "#serieA.get(100,0) - Que irá devolver o valor 0 (default)"
   ]
  },
  {
   "cell_type": "code",
   "execution_count": 51,
   "id": "2233f198-cdc3-4e97-8305-09b6326221bb",
   "metadata": {},
   "outputs": [
    {
     "data": {
      "text/plain": [
       "0"
      ]
     },
     "execution_count": 51,
     "metadata": {},
     "output_type": "execute_result"
    }
   ],
   "source": [
    "serieA.get(100,0)"
   ]
  }
 ],
 "metadata": {
  "kernelspec": {
   "display_name": "Python 3 (ipykernel)",
   "language": "python",
   "name": "python3"
  },
  "language_info": {
   "codemirror_mode": {
    "name": "ipython",
    "version": 3
   },
   "file_extension": ".py",
   "mimetype": "text/x-python",
   "name": "python",
   "nbconvert_exporter": "python",
   "pygments_lexer": "ipython3",
   "version": "3.10.6"
  }
 },
 "nbformat": 4,
 "nbformat_minor": 5
}
